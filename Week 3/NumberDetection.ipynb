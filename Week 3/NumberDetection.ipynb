{
  "nbformat": 4,
  "nbformat_minor": 0,
  "metadata": {
    "colab": {
      "name": "NumberDetection.ipynb",
      "provenance": [],
      "collapsed_sections": []
    },
    "kernelspec": {
      "name": "python3",
      "display_name": "Python 3"
    }
  },
  "cells": [
    {
      "cell_type": "code",
      "metadata": {
        "id": "ebjeud9538jB",
        "colab_type": "code",
        "outputId": "51a8a5b4-2275-4860-a909-872272783f57",
        "colab": {
          "base_uri": "https://localhost:8080/",
          "height": 34
        }
      },
      "source": [
        "from __future__ import print_function\n",
        "import keras\n",
        "import numpy as np\n",
        "from keras.datasets import mnist\n",
        "from keras.models import Sequential\n",
        "from keras.layers import Dense, Dropout, Flatten\n",
        "from keras.layers import Conv2D, MaxPooling2D\n",
        "from keras import backend as K\n",
        "import matplotlib.pyplot as plt"
      ],
      "execution_count": 0,
      "outputs": [
        {
          "output_type": "stream",
          "text": [
            "Using TensorFlow backend.\n"
          ],
          "name": "stderr"
        }
      ]
    },
    {
      "cell_type": "code",
      "metadata": {
        "id": "f4is453G3-7_",
        "colab_type": "code",
        "colab": {}
      },
      "source": [
        "batch_size = 128\n",
        "num_classes = 10\n",
        "epochs = 12\n",
        "\n",
        "# Input image dimensions\n",
        "img_rows, img_cols = 28, 28"
      ],
      "execution_count": 0,
      "outputs": []
    },
    {
      "cell_type": "code",
      "metadata": {
        "id": "Xso3qzzt3_2Q",
        "colab_type": "code",
        "outputId": "c86eab61-b0d5-40ee-d9b8-634af3775a0d",
        "colab": {
          "base_uri": "https://localhost:8080/",
          "height": 68
        }
      },
      "source": [
        "# the data, split between train and test sets\n",
        "(X_train, y_train), (X_test, y_test) = mnist.load_data()\n",
        "X_val, y_val = X_train[50000:60000,:], y_train[50000:60000]\n",
        "X_train, y_train = X_train[:50000, :], y_train[:50000]\n",
        "print(X_train.shape)\n",
        "\n",
        "#doi chieu cho dung yeu cau cuar keras\n",
        "X_train = X_train.reshape(X_train.shape[0], 28, 28, 1)\n",
        "X_val = X_val.reshape(X_val.shape[0], 28, 28, 1)\n",
        "X_test = X_test.reshape(X_test.shape[0], 28, 28, 1)"
      ],
      "execution_count": 0,
      "outputs": [
        {
          "output_type": "stream",
          "text": [
            "Downloading data from https://s3.amazonaws.com/img-datasets/mnist.npz\n",
            "11493376/11490434 [==============================] - 2s 0us/step\n",
            "(50000, 28, 28)\n"
          ],
          "name": "stdout"
        }
      ]
    },
    {
      "cell_type": "code",
      "metadata": {
        "id": "wD2jYPyL4RcA",
        "colab_type": "code",
        "outputId": "0f727d3a-8413-4061-b81a-438e110fa78e",
        "colab": {
          "base_uri": "https://localhost:8080/",
          "height": 51
        }
      },
      "source": [
        "# convert class vectors to binary class matrices\n",
        "Y_train = keras.utils.to_categorical(y_train, num_classes)\n",
        "Y_val = keras.utils.to_categorical(y_val, num_classes)\n",
        "Y_test = keras.utils.to_categorical(y_test, num_classes)\n",
        "print('Du lieu ban dau: ', y_test[0])\n",
        "print('Du lieu sau khi one-hot: ', Y_test[0])"
      ],
      "execution_count": 0,
      "outputs": [
        {
          "output_type": "stream",
          "text": [
            "Du lieu ban dau:  7\n",
            "Du lieu sau khi one-hot:  [0. 0. 0. 0. 0. 0. 0. 1. 0. 0.]\n"
          ],
          "name": "stdout"
        }
      ]
    },
    {
      "cell_type": "code",
      "metadata": {
        "id": "05oiZHnx4Uxt",
        "colab_type": "code",
        "outputId": "1e6181c3-8fee-4cc6-c859-c53a4adbcabd",
        "colab": {
          "base_uri": "https://localhost:8080/",
          "height": 357
        }
      },
      "source": [
        "# Tao model\n",
        "model = Sequential()\n",
        "model.add(Conv2D(32, kernel_size=(3, 3),\n",
        "                 activation='relu',\n",
        "                 input_shape=(28, 28, 1)))\n",
        "model.add(Conv2D(64, (3, 3), activation='relu'))\n",
        "model.add(MaxPooling2D(pool_size=(2, 2)))\n",
        "model.add(Flatten())\n",
        "model.add(Dense(128, activation='relu'))\n",
        "model.add(Dense(num_classes, activation='softmax'))\n",
        "\n",
        "model.summary()"
      ],
      "execution_count": 0,
      "outputs": [
        {
          "output_type": "stream",
          "text": [
            "Model: \"sequential_1\"\n",
            "_________________________________________________________________\n",
            "Layer (type)                 Output Shape              Param #   \n",
            "=================================================================\n",
            "conv2d_1 (Conv2D)            (None, 26, 26, 32)        320       \n",
            "_________________________________________________________________\n",
            "conv2d_2 (Conv2D)            (None, 24, 24, 64)        18496     \n",
            "_________________________________________________________________\n",
            "max_pooling2d_1 (MaxPooling2 (None, 12, 12, 64)        0         \n",
            "_________________________________________________________________\n",
            "flatten_1 (Flatten)          (None, 9216)              0         \n",
            "_________________________________________________________________\n",
            "dense_1 (Dense)              (None, 128)               1179776   \n",
            "_________________________________________________________________\n",
            "dense_2 (Dense)              (None, 10)                1290      \n",
            "=================================================================\n",
            "Total params: 1,199,882\n",
            "Trainable params: 1,199,882\n",
            "Non-trainable params: 0\n",
            "_________________________________________________________________\n"
          ],
          "name": "stdout"
        }
      ]
    },
    {
      "cell_type": "code",
      "metadata": {
        "id": "e_YnAyWR4YI9",
        "colab_type": "code",
        "colab": {}
      },
      "source": [
        "model.compile(loss=keras.losses.categorical_crossentropy,\n",
        "              optimizer=keras.optimizers.Adadelta(),\n",
        "              metrics=['accuracy'])"
      ],
      "execution_count": 0,
      "outputs": []
    },
    {
      "cell_type": "code",
      "metadata": {
        "id": "MUbuxuOZ4cLP",
        "colab_type": "code",
        "outputId": "7cfbb3d5-6213-4b2a-f5dd-ad7b66f34c63",
        "colab": {
          "base_uri": "https://localhost:8080/",
          "height": 442
        }
      },
      "source": [
        "H = model.fit(X_train, Y_train,\n",
        "          batch_size=batch_size,\n",
        "          epochs=epochs,\n",
        "          verbose=1,\n",
        "          validation_data=(X_test, Y_test))"
      ],
      "execution_count": 0,
      "outputs": [
        {
          "output_type": "stream",
          "text": [
            "Train on 50000 samples, validate on 10000 samples\n",
            "Epoch 1/12\n",
            "50000/50000 [==============================] - 117s 2ms/step - loss: 0.8985 - accuracy: 0.9359 - val_loss: 0.0630 - val_accuracy: 0.9803\n",
            "Epoch 2/12\n",
            "50000/50000 [==============================] - 116s 2ms/step - loss: 0.0498 - accuracy: 0.9845 - val_loss: 0.0560 - val_accuracy: 0.9817\n",
            "Epoch 3/12\n",
            "50000/50000 [==============================] - 116s 2ms/step - loss: 0.0249 - accuracy: 0.9923 - val_loss: 0.0480 - val_accuracy: 0.9846\n",
            "Epoch 4/12\n",
            "50000/50000 [==============================] - 116s 2ms/step - loss: 0.0109 - accuracy: 0.9966 - val_loss: 0.0458 - val_accuracy: 0.9887\n",
            "Epoch 5/12\n",
            "50000/50000 [==============================] - 116s 2ms/step - loss: 0.0061 - accuracy: 0.9982 - val_loss: 0.0601 - val_accuracy: 0.9865\n",
            "Epoch 6/12\n",
            "50000/50000 [==============================] - 116s 2ms/step - loss: 0.0042 - accuracy: 0.9985 - val_loss: 0.0618 - val_accuracy: 0.9880\n",
            "Epoch 7/12\n",
            "50000/50000 [==============================] - 116s 2ms/step - loss: 0.0019 - accuracy: 0.9995 - val_loss: 0.0606 - val_accuracy: 0.9878\n",
            "Epoch 8/12\n",
            "50000/50000 [==============================] - 116s 2ms/step - loss: 0.0018 - accuracy: 0.9994 - val_loss: 0.0551 - val_accuracy: 0.9897\n",
            "Epoch 9/12\n",
            "50000/50000 [==============================] - 116s 2ms/step - loss: 0.0011 - accuracy: 0.9998 - val_loss: 0.0660 - val_accuracy: 0.9900\n",
            "Epoch 10/12\n",
            "50000/50000 [==============================] - 116s 2ms/step - loss: 0.0012 - accuracy: 0.9996 - val_loss: 0.0709 - val_accuracy: 0.9891\n",
            "Epoch 11/12\n",
            "50000/50000 [==============================] - 116s 2ms/step - loss: 7.2021e-04 - accuracy: 0.9998 - val_loss: 0.0690 - val_accuracy: 0.9893\n",
            "Epoch 12/12\n",
            "50000/50000 [==============================] - 116s 2ms/step - loss: 6.4501e-04 - accuracy: 0.9999 - val_loss: 0.0654 - val_accuracy: 0.9894\n"
          ],
          "name": "stdout"
        }
      ]
    },
    {
      "cell_type": "code",
      "metadata": {
        "id": "4CxhTsDz4eGV",
        "colab_type": "code",
        "outputId": "f4f27ec9-61bf-427d-bb14-cb8db55654b6",
        "colab": {
          "base_uri": "https://localhost:8080/",
          "height": 51
        }
      },
      "source": [
        "score = model.evaluate(X_test, Y_test, verbose=0)\n",
        "print('Test loss:', score[0])\n",
        "print('Test accuracy:', score[1])"
      ],
      "execution_count": 0,
      "outputs": [
        {
          "output_type": "stream",
          "text": [
            "Test loss: 0.0653679910959714\n",
            "Test accuracy: 0.9894000291824341\n"
          ],
          "name": "stdout"
        }
      ]
    }
  ]
}