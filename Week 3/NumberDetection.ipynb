{
  "nbformat": 4,
  "nbformat_minor": 0,
  "metadata": {
    "colab": {
      "name": "NumberDetection.ipynb",
      "provenance": [],
      "collapsed_sections": []
    },
    "kernelspec": {
      "name": "python3",
      "display_name": "Python 3"
    }
  },
  "cells": [
    {
      "cell_type": "code",
      "metadata": {
        "id": "ebjeud9538jB",
        "colab_type": "code",
        "colab": {}
      },
      "source": [
        "from __future__ import print_function\n",
        "import keras\n",
        "import numpy as np\n",
        "from keras.datasets import mnist\n",
        "from keras.models import Sequential\n",
        "from keras.layers import Dense, Dropout, Flatten, BatchNormalization\n",
        "from keras.layers import Conv2D, MaxPooling2D\n",
        "from keras import backend as K\n",
        "import matplotlib.pyplot as plt\n",
        "from keras.preprocessing.image import ImageDataGenerator"
      ],
      "execution_count": 0,
      "outputs": []
    },
    {
      "cell_type": "code",
      "metadata": {
        "id": "f4is453G3-7_",
        "colab_type": "code",
        "colab": {}
      },
      "source": [
        "batch_size = 128\n",
        "num_classes = 10\n",
        "epochs = 12\n",
        "\n",
        "# input image dimensions\n",
        "img_rows, img_cols = 28, 28"
      ],
      "execution_count": 0,
      "outputs": []
    },
    {
      "cell_type": "code",
      "metadata": {
        "id": "Xso3qzzt3_2Q",
        "colab_type": "code",
        "outputId": "77f15ffc-9322-473d-b073-d4a937eb32bb",
        "colab": {
          "base_uri": "https://localhost:8080/",
          "height": 34
        }
      },
      "source": [
        "# the data, split between train and test sets\n",
        "(X_train, y_train), (X_test, y_test) = mnist.load_data()\n",
        "X_val, y_val = X_train[50000:60000,:], y_train[50000:60000]\n",
        "X_train, y_train = X_train[:50000, :], y_train[:50000]\n",
        "print(X_train.shape)\n",
        "\n",
        "#doi chieu cho dung yeu cau cuar keras\n",
        "X_train = X_train.reshape(X_train.shape[0], 28, 28, 1)\n",
        "X_val = X_val.reshape(X_val.shape[0], 28, 28, 1)\n",
        "X_test = X_test.reshape(X_test.shape[0], 28, 28, 1)"
      ],
      "execution_count": 97,
      "outputs": [
        {
          "output_type": "stream",
          "text": [
            "(50000, 28, 28)\n"
          ],
          "name": "stdout"
        }
      ]
    },
    {
      "cell_type": "code",
      "metadata": {
        "id": "wD2jYPyL4RcA",
        "colab_type": "code",
        "outputId": "e930dd8c-0ce9-4b2f-e8c1-9408e7e14167",
        "colab": {
          "base_uri": "https://localhost:8080/",
          "height": 51
        }
      },
      "source": [
        "# convert class vectors to binary class matrices\n",
        "Y_train = keras.utils.to_categorical(y_train, num_classes)\n",
        "Y_val = keras.utils.to_categorical(y_val, num_classes)\n",
        "Y_test = keras.utils.to_categorical(y_test, num_classes)\n",
        "print('Du lieu ban dau: ', y_test[0])\n",
        "print('Du lieu sau khi one-hot: ', Y_test[0])"
      ],
      "execution_count": 98,
      "outputs": [
        {
          "output_type": "stream",
          "text": [
            "Du lieu ban dau:  7\n",
            "Du lieu sau khi one-hot:  [0. 0. 0. 0. 0. 0. 0. 1. 0. 0.]\n"
          ],
          "name": "stdout"
        }
      ]
    },
    {
      "cell_type": "code",
      "metadata": {
        "id": "i00qj_p-EY4V",
        "colab_type": "code",
        "colab": {
          "base_uri": "https://localhost:8080/",
          "height": 119
        },
        "outputId": "717321ef-2a70-43d4-8b07-62431393a41a"
      },
      "source": [
        "print(X_train.shape)\n",
        "print(X_val.shape)\n",
        "print(X_test.shape)\n",
        "print(Y_train.shape)\n",
        "print(Y_val.shape)\n",
        "print(Y_test.shape)"
      ],
      "execution_count": 99,
      "outputs": [
        {
          "output_type": "stream",
          "text": [
            "(50000, 28, 28, 1)\n",
            "(10000, 28, 28, 1)\n",
            "(10000, 28, 28, 1)\n",
            "(50000, 10)\n",
            "(10000, 10)\n",
            "(10000, 10)\n"
          ],
          "name": "stdout"
        }
      ]
    },
    {
      "cell_type": "code",
      "metadata": {
        "id": "JSxsesrHEn5u",
        "colab_type": "code",
        "colab": {}
      },
      "source": [
        "train_gen = ImageDataGenerator(rotation_range=8, # xoay anh 8o \n",
        "                               width_shift_range=0.08, # dich chuyen theo chieu ngang\n",
        "                               shear_range=0.3, # do bop meo cua anh\n",
        "                               height_shift_range=0.08, # dich chuyen theo chieu doc\n",
        "                               zoom_range=0.08 )# zoom anh\n",
        "test_gen = ImageDataGenerator()\n",
        "\n",
        "train_set= train_gen.flow(X_train, Y_train, batch_size=batch_size)\n",
        "val_set= train_gen.flow(X_val, Y_val, batch_size=batch_size)\n",
        "test_set= train_gen.flow(X_test, Y_test, batch_size=batch_size)"
      ],
      "execution_count": 0,
      "outputs": []
    },
    {
      "cell_type": "code",
      "metadata": {
        "id": "EGnbw2zhFwKN",
        "colab_type": "code",
        "colab": {
          "base_uri": "https://localhost:8080/",
          "height": 34
        },
        "outputId": "071d45f2-0081-47de-9870-0f2934c1b65d"
      },
      "source": [
        "print(train_set)"
      ],
      "execution_count": 101,
      "outputs": [
        {
          "output_type": "stream",
          "text": [
            "<keras.preprocessing.image.NumpyArrayIterator object at 0x7f4a34358b00>\n"
          ],
          "name": "stdout"
        }
      ]
    },
    {
      "cell_type": "code",
      "metadata": {
        "id": "05oiZHnx4Uxt",
        "colab_type": "code",
        "outputId": "6ef0e1c3-3d27-46ee-b856-260c9ee47018",
        "colab": {
          "base_uri": "https://localhost:8080/",
          "height": 459
        }
      },
      "source": [
        "# Tao model\n",
        "model = Sequential()\n",
        "model.add(Conv2D(32, kernel_size=(3, 3),\n",
        "                 activation='relu',\n",
        "                 input_shape=(28, 28, 1)))\n",
        "model.add(Conv2D(64, (3, 3), activation='relu'))\n",
        "model.add(BatchNormalization())\n",
        "model.add(MaxPooling2D(pool_size=(2, 2)))\n",
        "model.add(Dropout(0.25))\n",
        "model.add(Flatten())\n",
        "model.add(Dense(128, activation='relu'))\n",
        "model.add(Dropout(0.5))\n",
        "model.add(Dense(num_classes, activation='softmax'))\n",
        "\n",
        "model.summary()"
      ],
      "execution_count": 102,
      "outputs": [
        {
          "output_type": "stream",
          "text": [
            "Model: \"sequential_10\"\n",
            "_________________________________________________________________\n",
            "Layer (type)                 Output Shape              Param #   \n",
            "=================================================================\n",
            "conv2d_19 (Conv2D)           (None, 26, 26, 32)        320       \n",
            "_________________________________________________________________\n",
            "conv2d_20 (Conv2D)           (None, 24, 24, 64)        18496     \n",
            "_________________________________________________________________\n",
            "batch_normalization_9 (Batch (None, 24, 24, 64)        256       \n",
            "_________________________________________________________________\n",
            "max_pooling2d_9 (MaxPooling2 (None, 12, 12, 64)        0         \n",
            "_________________________________________________________________\n",
            "dropout_15 (Dropout)         (None, 12, 12, 64)        0         \n",
            "_________________________________________________________________\n",
            "flatten_9 (Flatten)          (None, 9216)              0         \n",
            "_________________________________________________________________\n",
            "dense_17 (Dense)             (None, 128)               1179776   \n",
            "_________________________________________________________________\n",
            "dropout_16 (Dropout)         (None, 128)               0         \n",
            "_________________________________________________________________\n",
            "dense_18 (Dense)             (None, 10)                1290      \n",
            "=================================================================\n",
            "Total params: 1,200,138\n",
            "Trainable params: 1,200,010\n",
            "Non-trainable params: 128\n",
            "_________________________________________________________________\n"
          ],
          "name": "stdout"
        }
      ]
    },
    {
      "cell_type": "code",
      "metadata": {
        "id": "e_YnAyWR4YI9",
        "colab_type": "code",
        "colab": {}
      },
      "source": [
        "model.compile(loss=keras.losses.categorical_crossentropy,\n",
        "              optimizer=keras.optimizers.Adadelta(),\n",
        "              metrics=['accuracy'])"
      ],
      "execution_count": 0,
      "outputs": []
    },
    {
      "cell_type": "code",
      "metadata": {
        "id": "MUbuxuOZ4cLP",
        "colab_type": "code",
        "outputId": "03f1898a-b6bf-41fd-a6e4-f9e70427ca56",
        "colab": {
          "base_uri": "https://localhost:8080/",
          "height": 425
        }
      },
      "source": [
        "H = model.fit(train_set,\n",
        "          epochs=epochs,\n",
        "          verbose=1,\n",
        "          validation_data=test_set)"
      ],
      "execution_count": 104,
      "outputs": [
        {
          "output_type": "stream",
          "text": [
            "Epoch 1/12\n",
            "391/391 [==============================] - 161s 413ms/step - loss: 0.5803 - accuracy: 0.8316 - val_loss: 0.0195 - val_accuracy: 0.9493\n",
            "Epoch 2/12\n",
            "391/391 [==============================] - 161s 413ms/step - loss: 0.2515 - accuracy: 0.9316 - val_loss: 9.5576e-04 - val_accuracy: 0.9672\n",
            "Epoch 3/12\n",
            "391/391 [==============================] - 162s 413ms/step - loss: 0.1847 - accuracy: 0.9493 - val_loss: 0.0271 - val_accuracy: 0.9691\n",
            "Epoch 4/12\n",
            "391/391 [==============================] - 161s 411ms/step - loss: 0.1688 - accuracy: 0.9556 - val_loss: 0.0300 - val_accuracy: 0.9766\n",
            "Epoch 5/12\n",
            "391/391 [==============================] - 165s 423ms/step - loss: 0.1497 - accuracy: 0.9603 - val_loss: 0.0412 - val_accuracy: 0.9809\n",
            "Epoch 6/12\n",
            "391/391 [==============================] - 162s 414ms/step - loss: 0.1430 - accuracy: 0.9633 - val_loss: 0.0637 - val_accuracy: 0.9818\n",
            "Epoch 7/12\n",
            "391/391 [==============================] - 162s 415ms/step - loss: 0.1307 - accuracy: 0.9665 - val_loss: 3.9106e-04 - val_accuracy: 0.9774\n",
            "Epoch 8/12\n",
            "391/391 [==============================] - 163s 416ms/step - loss: 0.1235 - accuracy: 0.9686 - val_loss: 0.0901 - val_accuracy: 0.9843\n",
            "Epoch 9/12\n",
            "391/391 [==============================] - 168s 430ms/step - loss: 0.1183 - accuracy: 0.9690 - val_loss: 0.0031 - val_accuracy: 0.9856\n",
            "Epoch 10/12\n",
            "391/391 [==============================] - 163s 417ms/step - loss: 0.1110 - accuracy: 0.9710 - val_loss: 1.8626e-07 - val_accuracy: 0.9870\n",
            "Epoch 11/12\n",
            "391/391 [==============================] - 163s 416ms/step - loss: 0.1174 - accuracy: 0.9712 - val_loss: 0.6206 - val_accuracy: 0.9831\n",
            "Epoch 12/12\n",
            "391/391 [==============================] - 163s 417ms/step - loss: 0.1160 - accuracy: 0.9715 - val_loss: 6.2945e-04 - val_accuracy: 0.9853\n"
          ],
          "name": "stdout"
        }
      ]
    },
    {
      "cell_type": "code",
      "metadata": {
        "id": "4CxhTsDz4eGV",
        "colab_type": "code",
        "outputId": "eccc5d5c-d7f0-4b25-bbe5-3e9b9bc39b59",
        "colab": {
          "base_uri": "https://localhost:8080/",
          "height": 51
        }
      },
      "source": [
        "score = model.evaluate(X_test, Y_test, verbose=0)\n",
        "print('Test loss:', score[0])\n",
        "print('Test accuracy:', score[1])"
      ],
      "execution_count": 105,
      "outputs": [
        {
          "output_type": "stream",
          "text": [
            "Test loss: 0.06997287876631439\n",
            "Test accuracy: 0.9916999936103821\n"
          ],
          "name": "stdout"
        }
      ]
    }
  ]
}